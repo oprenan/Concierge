{
 "cells": [
  {
   "cell_type": "code",
   "execution_count": 1,
   "id": "b259fc83-e79c-4ec7-a13f-f0444c7faeda",
   "metadata": {},
   "outputs": [],
   "source": [
    "import pandas as pd\n",
    "from datetime import date, timedelta"
   ]
  },
  {
   "cell_type": "code",
   "execution_count": 3,
   "id": "e3fe3a1c-ab3f-46da-8ccb-2decfa55d7fa",
   "metadata": {},
   "outputs": [],
   "source": [
    "df = pd.read_csv('dates.csv')"
   ]
  },
  {
   "cell_type": "code",
   "execution_count": null,
   "id": "7a48b3bc-b402-4ee6-a934-e18cb596b30a",
   "metadata": {},
   "outputs": [],
   "source": []
  },
  {
   "cell_type": "code",
   "execution_count": 21,
   "id": "f020d734-05df-4beb-b2e7-493f12d09b34",
   "metadata": {},
   "outputs": [
    {
     "name": "stdout",
     "output_type": "stream",
     "text": [
      "2025-05-01\n"
     ]
    }
   ],
   "source": [
    "days = []\n",
    "for i, row in df.iterrows():\n",
    "    row.loc['dateInit']"
   ]
  },
  {
   "cell_type": "code",
   "execution_count": null,
   "id": "5bc41fd9-4a87-46bc-b982-153a9b4f296a",
   "metadata": {},
   "outputs": [],
   "source": []
  }
 ],
 "metadata": {
  "kernelspec": {
   "display_name": "Python 3 (ipykernel)",
   "language": "python",
   "name": "python3"
  },
  "language_info": {
   "codemirror_mode": {
    "name": "ipython",
    "version": 3
   },
   "file_extension": ".py",
   "mimetype": "text/x-python",
   "name": "python",
   "nbconvert_exporter": "python",
   "pygments_lexer": "ipython3",
   "version": "3.12.4"
  }
 },
 "nbformat": 4,
 "nbformat_minor": 5
}
